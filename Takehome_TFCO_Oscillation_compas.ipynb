{
 "cells": [
  {
   "cell_type": "markdown",
   "metadata": {},
   "source": [
    "##### Copyright 2018 The TensorFlow Constrained Optimization Authors. All Rights Reserved.\n",
    "\n",
    "Licensed under the Apache License, Version 2.0 (the \"License\"); you may not use this file except in compliance with the License. You may obtain a copy of the License at\n",
    "\n",
    "> http://www.apache.org/licenses/LICENSE-2.0\n",
    "\n",
    "Unless required by applicable law or agreed to in writing, software distributed under the License is distributed on an \"AS IS\" BASIS, WITHOUT WARRANTIES OR CONDITIONS OF ANY KIND, either express or implied. See the License for the specific language governing permissions and limitations under the License."
   ]
  },
  {
   "cell_type": "markdown",
   "metadata": {},
   "source": [
    "## Overview\n",
    "\n",
    "This notebook will show one of the challenges that arises in practice when training machine learning models to satisfy constraints such as fairness constraints: namely the difficulty that arises with non-convex models. Typical approaches to enforce such constraints are based on the classical method of the Lagrangian multipliers. It is well known that in the convex setting, under fairly general conditions, a saddle point to the Lagrangian will correspond to an optimal and feasible solution to the original constrained optimization problem. However, such no longer holds in the non-convex setting: a saddle point no longer necessarily corresponds to a desired solution to the constrained optimization problem. Even worse, there may not even be a stationary point to converge to in the non-convex setting thus causing gradient-based methods like SGD to possibly not converge and thus oscillate.\n",
    "\n",
    "\n",
    "We show that this problem appears with the [[ProPublica COMPAS dataset]](https://github.com/propublica/compas-analysis) when we train a simple neural network as the underlying model to predict 2-year recividism with equal opportunity constraints based on race and gender. This motivates why stochastic classifiers are necessary, as proposed in [[CoJiSr19]](https://arxiv.org/abs/1804.06500). In particular, there are four equal opportunity constraints: one for each of the 4 protected groups (White, Black, Female, Male). As a reminder, equal opportunity enforces that the true positive rate of our classifier on each protected group matches the true positive rate of our classifer on the overall dataset.\n"
   ]
  },
  {
   "cell_type": "markdown",
   "metadata": {},
   "source": [
    "### Importing required libraries."
   ]
  },
  {
   "cell_type": "code",
   "execution_count": 1,
   "metadata": {},
   "outputs": [],
   "source": [
    "import math\n",
    "import random\n",
    "import numpy as np\n",
    "import pandas as pd\n",
    "import warnings\n",
    "from six.moves import xrange\n",
    "import tensorflow.compat.v1 as tf\n",
    "import tensorflow_constrained_optimization as tfco\n",
    "import matplotlib.pyplot as plt\n",
    "\n",
    "tf.disable_eager_execution()\n",
    "\n",
    "warnings.filterwarnings('ignore')\n",
    "%matplotlib inline"
   ]
  },
  {
   "cell_type": "markdown",
   "metadata": {},
   "source": [
    "### Reading and processing dataset.\n",
    "\n",
    "We load and download the dataset and do some pre-processing. We remove some of the datapoints for which some of the features are missing and then perform some feature transformation, including changing categorical features into binary features and bucketizing some of the continuous features."
   ]
  },
  {
   "cell_type": "code",
   "execution_count": 2,
   "metadata": {},
   "outputs": [],
   "source": [
    "LABEL_COLUMN = 'two_year_recid'\n",
    "PROTECTED_COLUMNS = ['sex_Female', 'sex_Male', 'race_Caucasian', 'race_African-American']\n",
    "\n",
    "def get_data():\n",
    "    data_path = 'https://raw.githubusercontent.com/propublica/compas-analysis/master/compas-scores-two-years.csv'\n",
    "    df = pd.read_csv(data_path)\n",
    "    FEATURES = [\n",
    "      'age', 'c_charge_degree', 'race', 'age_cat', 'score_text', 'sex',\n",
    "      'priors_count', 'days_b_screening_arrest', 'decile_score', 'is_recid',\n",
    "      'two_year_recid']\n",
    "    df = df[FEATURES]\n",
    "    df = df[df.days_b_screening_arrest <= 30]\n",
    "    df = df[df.days_b_screening_arrest >= -30]\n",
    "    df = df[df.is_recid != -1]\n",
    "    df = df[df.c_charge_degree != 'O']\n",
    "    df = df[df.score_text != 'N/A']\n",
    "    continuous_features = [\n",
    "      'priors_count', 'days_b_screening_arrest', 'is_recid', 'two_year_recid'\n",
    "    ]\n",
    "    continuous_to_categorical_features = ['age', 'decile_score', 'priors_count']\n",
    "    categorical_features = ['c_charge_degree', 'race', 'score_text', 'sex']\n",
    "\n",
    "    def binarize_categorical_columns(input_df, categorical_columns=[]):\n",
    "        binarized_df = pd.get_dummies(input_df, columns=categorical_columns)\n",
    "        return binarized_df\n",
    "    \n",
    "    def bucketize_continuous_column(input_df, continuous_column_name, bins=None):\n",
    "        input_df[continuous_column_name] = pd.cut(\n",
    "            input_df[continuous_column_name], bins, labels=False)\n",
    "\n",
    "    for c in continuous_to_categorical_features:\n",
    "        b = [0] + list(np.percentile(df[c], [20, 40, 60, 80, 90, 100]))\n",
    "        if c == 'priors_count':\n",
    "            b = list(np.percentile(df[c], [0, 50, 70, 80, 90, 100]))\n",
    "        bucketize_continuous_column(df, c, bins=b)\n",
    "\n",
    "    df = binarize_categorical_columns(\n",
    "        df,\n",
    "        categorical_columns=categorical_features + continuous_to_categorical_features)\n",
    "\n",
    "    to_fill = [\n",
    "      u'decile_score_0', u'decile_score_1', u'decile_score_2',\n",
    "      u'decile_score_3', u'decile_score_4', u'decile_score_5'\n",
    "    ]\n",
    "    for i in range(len(to_fill) - 1):\n",
    "        df[to_fill[i]] = df[to_fill[i:]].max(axis=1)\n",
    "    to_fill = [\n",
    "      u'priors_count_0.0', u'priors_count_1.0', u'priors_count_2.0',\n",
    "      u'priors_count_3.0', u'priors_count_4.0'\n",
    "    ]\n",
    "    for i in range(len(to_fill) - 1):\n",
    "        df[to_fill[i]] = df[to_fill[i:]].max(axis=1)\n",
    "\n",
    "    features = [\n",
    "      u'days_b_screening_arrest', u'c_charge_degree_F', u'c_charge_degree_M',\n",
    "      u'race_African-American', u'race_Asian', u'race_Caucasian',\n",
    "      u'race_Hispanic', u'race_Native American', u'race_Other',\n",
    "      u'score_text_High', u'score_text_Low', u'score_text_Medium',\n",
    "      u'sex_Female', u'sex_Male', u'age_0', u'age_1', u'age_2', u'age_3',\n",
    "      u'age_4', u'age_5', u'decile_score_0', u'decile_score_1',\n",
    "      u'decile_score_2', u'decile_score_3', u'decile_score_4',\n",
    "      u'decile_score_5', u'priors_count_0.0', u'priors_count_1.0',\n",
    "      u'priors_count_2.0', u'priors_count_3.0', u'priors_count_4.0'\n",
    "    ]\n",
    "    df = df[features + [LABEL_COLUMN]]\n",
    "    return df, features"
   ]
  },
  {
   "cell_type": "markdown",
   "metadata": {},
   "source": [
    "We now load the data and make a random train/test split."
   ]
  },
  {
   "cell_type": "code",
   "execution_count": 3,
   "metadata": {},
   "outputs": [],
   "source": [
    "df, FEATURE_NAMES = get_data()\n",
    "\n",
    "tf.set_random_seed(1234)\n",
    "\n",
    "df.sample(frac=1, random_state=12345)\n",
    "N = len(df)\n",
    "train_df = df[:int(N * 0.7)]\n",
    "test_df = df[int(N * 0.7):]"
   ]
  },
  {
   "cell_type": "markdown",
   "metadata": {},
   "source": [
    "### Model.\n",
    "\n",
    "We use a 1-hidden layer Neural Network with ReLU activations and 10 hidden units. We show that even with a small neural network, we will already see some oscillation and non-convergence that arises due to non-convexity.\n",
    "\n",
    "In the following code, we initialize the placeholders and model. In build_train_op, we set up the constrained optimization problem. We create a rate context for the entire dataset, and compute the overall true positive rate as the positive prediction rate on the positively labeled subset. We then construct a constraint for each of the protected groups based on the difference between the true positive rates of the protected group and that of the overall dataset. We then construct a minimization problem using RateMinimizationProblem and use the ProxyLagrangianOptimizerV1 as the solver. build_train_op initializes a training operation which will later be used to actually train the model. \n"
   ]
  },
  {
   "cell_type": "code",
   "execution_count": 4,
   "metadata": {},
   "outputs": [],
   "source": [
    "def _construct_model(input_tensor, hidden_units=10):\n",
    "    hidden = tf.layers.dense(\n",
    "        inputs=input_tensor,\n",
    "        units=hidden_units,\n",
    "        activation=tf.nn.relu)\n",
    "    output = tf.layers.dense(\n",
    "        inputs=hidden,\n",
    "        units=1,\n",
    "        activation=None)\n",
    "    return output\n",
    "\n",
    "class Model(object):\n",
    "    def __init__(self,\n",
    "                 feature_names,\n",
    "                 hidden_units=10,\n",
    "                 tpr_max_diff=0):\n",
    "        tf.random.set_random_seed(123)\n",
    "        self.feature_names = feature_names\n",
    "        self.tpr_max_diff = tpr_max_diff\n",
    "        num_features = len(self.feature_names)\n",
    "        self.features_placeholder = tf.placeholder(\n",
    "            tf.float32, shape=(None, num_features), name='features_placeholder')\n",
    "        self.labels_placeholder = tf.placeholder(\n",
    "            tf.float32, shape=(None, 1), name='labels_placeholder')\n",
    "        self.protected_placeholders = [tf.placeholder(tf.float32, shape=(None, 1), name=attribute+\"_placeholder\") for attribute in PROTECTED_COLUMNS]\n",
    "        self.predictions_tensor = _construct_model(\n",
    "            self.features_placeholder, hidden_units=hidden_units)\n",
    "\n",
    "    def build_train_op(self,\n",
    "                       learning_rate,\n",
    "                       unconstrained=False):\n",
    "        ctx = tfco.rate_context(self.predictions_tensor, self.labels_placeholder)\n",
    "        positive_slice = ctx.subset(self.labels_placeholder > 0) \n",
    "        overall_tpr = tfco.positive_prediction_rate(positive_slice)\n",
    "        constraints = []\n",
    "        if not unconstrained:\n",
    "            for placeholder in self.protected_placeholders:\n",
    "                slice_tpr = tfco.positive_prediction_rate(ctx.subset((placeholder > 0) & (self.labels_placeholder > 0)))\n",
    "                constraints.append(slice_tpr <= overall_tpr + self.tpr_max_diff)\n",
    "        mp = tfco.RateMinimizationProblem(tfco.error_rate(ctx), constraints)\n",
    "        opt = tfco.ProxyLagrangianOptimizerV1(tf.train.AdamOptimizer(learning_rate))\n",
    "        self.train_op = opt.minimize(mp)\n",
    "        return self.train_op\n",
    "  \n",
    "    def feed_dict_helper(self, dataframe):\n",
    "        feed_dict = {self.features_placeholder:\n",
    "                  dataframe[self.feature_names],\n",
    "              self.labels_placeholder:\n",
    "                  dataframe[[LABEL_COLUMN]],}\n",
    "        for i, protected_attribute in enumerate(PROTECTED_COLUMNS):\n",
    "            feed_dict[self.protected_placeholders[i]] = dataframe[[protected_attribute]]\n",
    "        return feed_dict"
   ]
  },
  {
   "cell_type": "markdown",
   "metadata": {},
   "source": [
    "### Training.\n",
    "\n",
    "Below is the function which performs the training of our constrained optimization problem. Each call to the function does one epoch through the dataset and then yields the training and testing predictions."
   ]
  },
  {
   "cell_type": "code",
   "execution_count": 5,
   "metadata": {},
   "outputs": [],
   "source": [
    "def training_generator(model,\n",
    "                       train_df,\n",
    "                       test_df,\n",
    "                       minibatch_size,\n",
    "                       num_iterations_per_loop=1,\n",
    "                       num_loops=1):\n",
    "    random.seed(31337)\n",
    "    num_rows = train_df.shape[0]\n",
    "    minibatch_size = min(minibatch_size, num_rows)\n",
    "    permutation = list(range(train_df.shape[0]))\n",
    "    random.shuffle(permutation)\n",
    "\n",
    "    session = tf.Session()\n",
    "    session.run((tf.global_variables_initializer(),\n",
    "               tf.local_variables_initializer()))\n",
    "\n",
    "    minibatch_start_index = 0\n",
    "    for n in xrange(num_loops):\n",
    "        for _ in xrange(num_iterations_per_loop):\n",
    "            minibatch_indices = []\n",
    "            while len(minibatch_indices) < minibatch_size:\n",
    "                minibatch_end_index = (\n",
    "                minibatch_start_index + minibatch_size - len(minibatch_indices))\n",
    "                if minibatch_end_index >= num_rows:\n",
    "                    minibatch_indices += range(minibatch_start_index, num_rows)\n",
    "                    minibatch_start_index = 0\n",
    "                else:\n",
    "                    minibatch_indices += range(minibatch_start_index, minibatch_end_index)\n",
    "                    minibatch_start_index = minibatch_end_index\n",
    "            session.run(\n",
    "                  model.train_op,\n",
    "                  feed_dict=model.feed_dict_helper(\n",
    "                      train_df.iloc[[permutation[ii] for ii in minibatch_indices]]))\n",
    "            \n",
    "        train_predictions = session.run(\n",
    "            model.predictions_tensor,\n",
    "            feed_dict=model.feed_dict_helper(train_df))\n",
    "        test_predictions = session.run(\n",
    "            model.predictions_tensor,\n",
    "            feed_dict=model.feed_dict_helper(test_df))\n",
    "\n",
    "        yield (train_predictions, test_predictions)"
   ]
  },
  {
   "cell_type": "markdown",
   "metadata": {},
   "source": [
    "### Computing accuracy and fairness metrics."
   ]
  },
  {
   "cell_type": "code",
   "execution_count": 6,
   "metadata": {},
   "outputs": [],
   "source": [
    "def error_rate(predictions, labels):\n",
    "    signed_labels = (\n",
    "      (labels > 0).astype(np.float32) - (labels <= 0).astype(np.float32))\n",
    "    numerator = (np.multiply(signed_labels, predictions) <= 0).sum()\n",
    "    denominator = predictions.shape[0]\n",
    "    return float(numerator) / float(denominator)\n",
    "\n",
    "\n",
    "def positive_prediction_rate(predictions, subset):\n",
    "    numerator = np.multiply((predictions > 0).astype(np.float32),\n",
    "                          (subset > 0).astype(np.float32)).sum()\n",
    "    denominator = (subset > 0).sum()\n",
    "    return float(numerator) / float(denominator)\n",
    "\n",
    "def tpr(df):\n",
    "    \"\"\"Measure the true positive rate.\"\"\"\n",
    "    fp = sum((df['predictions'] >= 0.0) & (df[LABEL_COLUMN] > 0.5))\n",
    "    ln = sum(df[LABEL_COLUMN] > 0.5)\n",
    "    return float(fp) / float(ln)\n",
    "\n",
    "def _get_error_rate_and_constraints(df, tpr_max_diff):\n",
    "    \"\"\"Computes the error and fairness violations.\"\"\"\n",
    "    error_rate_local = error_rate(df[['predictions']], df[[LABEL_COLUMN]])\n",
    "    overall_tpr = tpr(df)\n",
    "    return error_rate_local, overall_tpr, [tpr(df[df[protected_attribute] > 0.5]) - (overall_tpr + tpr_max_diff) for protected_attribute in PROTECTED_COLUMNS]\n",
    "\n",
    "def _get_exp_error_rate_constraints(cand_dist, error_rates_vector,\n",
    "                                    overall_tpr_vector, constraints_matrix):\n",
    "    \"\"\"Computes the expected error and fairness violations on a randomized solution.\"\"\"\n",
    "    expected_error_rate = np.dot(cand_dist, error_rates_vector)\n",
    "    expected_overall_tpr = np.dot(cand_dist, overall_tpr_vector)\n",
    "    expected_constraints = np.matmul(cand_dist, constraints_matrix)\n",
    "    return expected_error_rate, expected_overall_tpr, expected_constraints\n",
    "\n",
    "\n",
    "def get_iterate_metrics(cand_dist, best_cand_index, error_rate_vector,\n",
    "                        overall_tpr_vector, constraints_matrix):\n",
    "    metrics = {}\n",
    "    exp_error_rate, exp_overall_tpr, exp_constraints = _get_exp_error_rate_constraints(\n",
    "      cand_dist, error_rate_vector, overall_tpr_vector, constraints_matrix)\n",
    "    metrics['m_stochastic_error_rate'] = exp_error_rate\n",
    "    metrics['m_stochastic_overall_tpr'] = exp_overall_tpr\n",
    "    metrics['m_stochastic_max_constraint_violation'] = max(exp_constraints)\n",
    "    for i, constraint in enumerate(exp_constraints):\n",
    "        metrics['m_stochastic_constraint_violation_%d' % i] = constraint\n",
    "    metrics['best_error_rate'] = error_rate_vector[best_cand_index]\n",
    "    metrics['last_error_rate'] = error_rate_vector[-1]\n",
    "    metrics['t_stochastic_error_rate'] = sum(error_rate_vector) / len(\n",
    "      error_rate_vector)\n",
    "    metrics['best_overall_tpr'] = overall_tpr_vector[best_cand_index]\n",
    "    metrics['last_overall_tpr'] = overall_tpr_vector[-1]\n",
    "    metrics['t_stochastic_overall_tpr'] = sum(overall_tpr_vector) / len(\n",
    "      overall_tpr_vector)\n",
    "    avg_constraints = []\n",
    "    best_constraints = []\n",
    "    last_constraints = []\n",
    "    for constraint_iterates in np.transpose(constraints_matrix):\n",
    "        avg_constraint = sum(constraint_iterates) / len(constraint_iterates)\n",
    "        avg_constraints.append(avg_constraint)\n",
    "        best_constraints.append(constraint_iterates[best_cand_index])\n",
    "        last_constraints.append(constraint_iterates[-1])\n",
    "    metrics['best_max_constraint_violation'] = max(best_constraints)\n",
    "    for i, constraint in enumerate(best_constraints):\n",
    "        metrics['best_constraint_violation_%d' % i] = constraint\n",
    "        metrics['last_max_constraint_violation'] = max(last_constraints)\n",
    "    for i, constraint in enumerate(last_constraints):\n",
    "        metrics['last_constraint_violation_%d' % i] = constraint\n",
    "        metrics['t_stochastic_max_constraint_violation'] = max(avg_constraints)\n",
    "    for i, constraint in enumerate(avg_constraints):\n",
    "        metrics['t_stochastic_constraint_violation_%d' % i] = constraint\n",
    "    metrics['all_errors'] = error_rate_vector\n",
    "    metrics['all_violations'] = np.max(constraints_matrix, axis=1)\n",
    "\n",
    "    return metrics\n",
    "\n",
    "def training_helper(model,\n",
    "                    train_df,\n",
    "                    test_df,\n",
    "                    minibatch_size,\n",
    "                    num_iterations_per_loop=1,\n",
    "                    num_loops=1):\n",
    "    train_objective_vector = []\n",
    "    train_constraints_loss_matrix = []\n",
    "    train_error_rate_vector = []\n",
    "    train_overall_tpr_vector = []\n",
    "    train_constraints_matrix = []\n",
    "    test_error_rate_vector = []\n",
    "    test_overall_tpr_vector = []\n",
    "    test_constraints_matrix = []\n",
    "    for train, test in training_generator(\n",
    "      model, train_df, test_df, minibatch_size, num_iterations_per_loop,\n",
    "      num_loops):\n",
    "        train_df['predictions'] = train\n",
    "        test_df['predictions'] = test\n",
    "\n",
    "        train_error_rate, train_overall_tpr, train_constraints = _get_error_rate_and_constraints(\n",
    "          train_df, model.tpr_max_diff)\n",
    "        train_error_rate_vector.append(train_error_rate)\n",
    "        train_overall_tpr_vector.append(train_overall_tpr)\n",
    "        train_constraints_matrix.append(train_constraints)\n",
    "\n",
    "        test_error_rate, test_overall_tpr, test_constraints = _get_error_rate_and_constraints(\n",
    "            test_df, model.tpr_max_diff)\n",
    "        test_error_rate_vector.append(test_error_rate)\n",
    "        test_overall_tpr_vector.append(test_overall_tpr)\n",
    "        test_constraints_matrix.append(test_constraints)\n",
    "\n",
    "    cand_dist = tfco.find_best_candidate_distribution(\n",
    "      train_error_rate_vector, train_constraints_matrix, epsilon=0.001)\n",
    "    best_cand_index = tfco.find_best_candidate_index(\n",
    "      train_error_rate_vector, train_constraints_matrix)\n",
    "    train_metrics = get_iterate_metrics(\n",
    "      cand_dist, best_cand_index, train_error_rate_vector,\n",
    "      train_overall_tpr_vector, train_constraints_matrix)\n",
    "    test_metrics = get_iterate_metrics(\n",
    "      cand_dist, best_cand_index, test_error_rate_vector,\n",
    "      test_overall_tpr_vector, test_constraints_matrix)\n",
    "\n",
    "    return (train_metrics, test_metrics)"
   ]
  },
  {
   "cell_type": "markdown",
   "metadata": {},
   "source": [
    "### Baseline without constraints.\n",
    "\n",
    "We now declare the model, build the training op, and then perform the training. We use a neural network with 10 hidden units as the underlying classifier, and train using the ADAM optimizer with learning rate 0.01, with minibatch size of 100 over 500 epochs. We first train without fairness constraints to show the baseline performance. We see that without training fair fairness, we obtain a high fairness violation."
   ]
  },
  {
   "cell_type": "code",
   "execution_count": 7,
   "metadata": {},
   "outputs": [],
   "source": [
    "model = Model(FEATURE_NAMES, hidden_units=10)\n",
    "\n",
    "model.build_train_op(0.01, unconstrained=True)\n",
    "\n",
    "results = training_helper(\n",
    "      model,\n",
    "      train_df,\n",
    "      test_df,\n",
    "      100,\n",
    "      num_iterations_per_loop=44,\n",
    "      num_loops=500)"
   ]
  },
  {
   "cell_type": "code",
   "execution_count": 8,
   "metadata": {},
   "outputs": [
    {
     "name": "stdout",
     "output_type": "stream",
     "text": [
      "Train Error 0.29421296296296295\n",
      "Train Violation 0.0967080478842346\n"
     ]
    }
   ],
   "source": [
    "print(\"Train Error\", results[0][\"last_error_rate\"])\n",
    "print(\"Train Violation\", results[0][\"last_max_constraint_violation\"])"
   ]
  },
  {
   "cell_type": "markdown",
   "metadata": {},
   "source": [
    "### Putting it together: training with fairness constraints.\n",
    "\n",
    "We now train with fairness constraints."
   ]
  },
  {
   "cell_type": "code",
   "execution_count": 9,
   "metadata": {},
   "outputs": [],
   "source": [
    "model = Model(FEATURE_NAMES, hidden_units=10)\n",
    "\n",
    "model.build_train_op(0.01, unconstrained=False)\n",
    "\n",
    "results = training_helper(\n",
    "      model,\n",
    "      train_df,\n",
    "      test_df,\n",
    "      100,\n",
    "      num_iterations_per_loop=44,\n",
    "      num_loops=500)"
   ]
  },
  {
   "cell_type": "markdown",
   "metadata": {},
   "source": [
    "### The iterates oscillate.\n",
    "\n",
    "We now plot the errors and violations of our iterate at the end of each epoch. We see that they don't converge and there is oscillating behavior. Thus suggests that the Lagrangian either has no stationary point to converge to or it is very difficult for our gradient-based methods to find one. "
   ]
  },
  {
   "cell_type": "code",
   "execution_count": 10,
   "metadata": {},
   "outputs": [
    {
     "data": {
      "image/png": "[encoded data removed]",
      "text/plain": [
       "<Figure size 432x288 with 1 Axes>"
      ]
     },
     "metadata": {
      "needs_background": "light"
     },
     "output_type": "display_data"
    },
    {
     "data": {
      "image/png": "[encoded data removed]",
      "text/plain": [
       "<Figure size 432x288 with 1 Axes>"
      ]
     },
     "metadata": {
      "needs_background": "light"
     },
     "output_type": "display_data"
    }
   ],
   "source": [
    "plt.title(\"Error Rate vs Epoch\")\n",
    "plt.plot(range(100, len(results[0][\"all_errors\"])), results[0][\"all_errors\"][100:], color=\"green\")\n",
    "plt.xlabel(\"Epoch\")\n",
    "plt.show()\n",
    "plt.title(\"Violation vs Epoch\")\n",
    "plt.plot(range(100, len(results[0][\"all_violations\"])), results[0][\"all_violations\"][100:], color=\"blue\")\n",
    "plt.xlabel(\"Epoch\")\n",
    "plt.show()"
   ]
  },
  {
   "cell_type": "markdown",
   "metadata": {},
   "source": [
    "### Using stochastic solution.\n",
    "\n",
    "This motivates the use of stochastic classifiers, which was proposed in [[CoJiSr19]](https://arxiv.org/abs/1804.06500). It was shown that the average iterate has guarantees. "
   ]
  },
  {
   "cell_type": "code",
   "execution_count": 11,
   "metadata": {},
   "outputs": [
    {
     "name": "stdout",
     "output_type": "stream",
     "text": [
      "Results for Average Iterate.\n",
      "Train Error 0.3005370370370371\n",
      "Train Violation 0.0021946623392345966\n"
     ]
    }
   ],
   "source": [
    "print(\"Results for Average Iterate.\")\n",
    "print(\"Train Error\", results[0][\"t_stochastic_error_rate\"])\n",
    "print(\"Train Violation\", results[0][\"t_stochastic_max_constraint_violation\"])"
   ]
  },
  {
   "cell_type": "markdown",
   "metadata": {},
   "source": [
    "### Shrinking the stochastic solution.\n",
    "\n",
    "The average of all the iterates may be computationally intensive (i.e. requires storing and processing the iterates at each epoch, and the number of iterates may become arbitrarily large). Moreover, the average iterate can have consituents that are suboptimal (especially the early iterates). [[CoJiSr19]](https://arxiv.org/abs/1804.06500) proposed a method to shrink down the uniform mixture of all iterates to one that is a mixture of at most m+1 solutions where m is the number of constraints with guarantees that the new solution will be at least as good as the original solution. This can be done using the find_best_candidate_distribution function. We see an improvement in terms of both fairness and accuracy."
   ]
  },
  {
   "cell_type": "code",
   "execution_count": 12,
   "metadata": {},
   "outputs": [
    {
     "name": "stdout",
     "output_type": "stream",
     "text": [
      "Results after Shrinking\n",
      "Train Error 0.29370749834992005\n",
      "Train Violation 5.854691731421724e-18\n"
     ]
    }
   ],
   "source": [
    "print(\"Results after Shrinking\")\n",
    "print(\"Train Error\", results[0][\"m_stochastic_error_rate\"])\n",
    "print(\"Train Violation\", results[0][\"m_stochastic_max_constraint_violation\"])"
   ]
  }
 ],
 "metadata": {
  "kernelspec": {
   "display_name": "Python 3 (ipykernel)",
   "language": "python",
   "name": "python3"
  },
  "language_info": {
   "codemirror_mode": {
    "name": "ipython",
    "version": 3
   },
   "file_extension": ".py",
   "mimetype": "text/x-python",
   "name": "python",
   "nbconvert_exporter": "python",
   "pygments_lexer": "ipython3",
   "version": "3.9.12"
  }
 },
 "nbformat": 4,
 "nbformat_minor": 4
}
