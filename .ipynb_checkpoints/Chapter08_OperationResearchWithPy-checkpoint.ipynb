{
 "cells": [
  {
   "cell_type": "markdown",
   "id": "aebebf1d-6095-4e06-a307-4a9ebce7b7c3",
   "metadata": {
    "tags": []
   },
   "source": [
    "<img src=\"https://developers.google.com/optimization/images/orLogo_96.png\"> <font size=5> ORTools</font><br>\n",
    "ortools by google provides tools for many <a href=\"https://en.wikipedia.org/wiki/Operations_research\">operation reseach</a> problems. Many OR problems are optimization problem. ortools is available in python and other languages such as c++ and java which makes a good candidate for product code.<br>\n",
    "For installing ortools you need to run:<code> pip install ortools</code>\n",
    "\n",
    "We review various categories of or problems here. <br>\n",
    "<h1> Linear Programming</h1>\n",
    "Linear optimization (or linear programming) is the name given to computing the best solution to a problem modeled as a set of linear relationships. These problems arise in many scientific and engineering disciplines. (The word \"programming\" is a bit of a misnomer, similar to how \"computer\" once meant \"a person who computes.\" Here, \"programming\" refers to the arrangement of a plan, rather than programming in a computer language.)\n",
    "\n",
    "Review here for a good discussion on <a href=\"https://docs.mosek.com/modeling-cookbook/linear.html#linear-modeling\"> mathematics of a linear program</a>.\n",
    "\n",
    "Let's start with a simple LP. Suppose we want to solve the following problem:\n",
    "\n",
    "max 3x + 4y <br>\n",
    "subject to:<br>\n",
    "  x + 2y≤14<br>\n",
    "  3x – y≥0<br>\n",
    "  x – y≤2<br>\n",
    "Constrains mentioned above define a feasible region:<br>\n",
    "<img src=\"images/lp_feasible_region.png\" width=300><br>\n",
    "So, this problem has an answer. Let's solve it using ortools. We follow steps listed below to find the answer:\n",
    "<ol>\n",
    "<li>Import the linear solver wrapper</li>\n",
    "<li>declare the LP solver</li>\n",
    "<li>define the variables</li>\n",
    "<li>define the constraints</li>\n",
    "<li>define the objective</li>\n",
    "<li>call the LP solver</li>\n",
    "    <li>display the solution</li>\n",
    "    </ol>\n",
    "The main LP solver in ortools is <a href=\"https://en.wikipedia.org/wiki/GLOP\"> GLOP</a>  which is Google in house LPSolver written in C++.  It is very fast and efficient. Since we are using python we need to import a wrapper for accessing it."
   ]
  },
  {
   "cell_type": "code",
   "execution_count": 3,
   "id": "03d891af-ea36-4192-a6e9-57120346b985",
   "metadata": {},
   "outputs": [],
   "source": [
    "# Step 1 and 2\n",
    "from ortools.linear_solver import pywraplp\n",
    "solver = pywraplp.Solver.CreateSolver('GLOP')"
   ]
  },
  {
   "cell_type": "code",
   "execution_count": 4,
   "id": "e0193043-8ec1-434d-b52a-cf0e5d591da2",
   "metadata": {},
   "outputs": [
    {
     "name": "stdout",
     "output_type": "stream",
     "text": [
      "Number of variables = 2\n"
     ]
    }
   ],
   "source": [
    "# Step 3\n",
    "x = solver.NumVar(0, solver.infinity(), 'x') # Define Continous variable NumVar(lb= lower_bound, ub=upper_bound, name=variable_name)\n",
    "y = solver.NumVar(0, solver.infinity(), 'y')\n",
    "\n",
    "print('Number of variables =', solver.NumVariables())"
   ]
  },
  {
   "cell_type": "code",
   "execution_count": 5,
   "id": "1cec2bff-bd01-4e3b-9560-a3504b6c0294",
   "metadata": {},
   "outputs": [
    {
     "name": "stdout",
     "output_type": "stream",
     "text": [
      "Number of constraints = 3\n"
     ]
    }
   ],
   "source": [
    "# Step 4\n",
    "# Constraint 0: x + 2y <= 14.\n",
    "solver.Add(x + 2 * y <= 14.0) # Add adds contraints Add(constraint, name=constraint_name)\n",
    "\n",
    "# Constraint 1: 3x - y >= 0.\n",
    "solver.Add(3 * x - y >= 0.0)\n",
    "\n",
    "# Constraint 2: x - y <= 2.\n",
    "solver.Add(x - y <= 2.0)\n",
    "\n",
    "print('Number of constraints =', solver.NumConstraints())"
   ]
  },
  {
   "cell_type": "code",
   "execution_count": 6,
   "id": "4ecb60d0-1da6-4c4f-9688-1a61127fd193",
   "metadata": {},
   "outputs": [],
   "source": [
    "# Step 5 and 6\n",
    "# Objective function: 3x + 4y.\n",
    "solver.Maximize(3 * x + 4 * y) # Define a maximization -> Maximize(expr), Also you can use solver.Minimize if you have a minimization\n",
    "status = solver.Solve()"
   ]
  },
  {
   "cell_type": "code",
   "execution_count": 8,
   "id": "9b505ebf-700d-4c4c-b864-057f01bcf07f",
   "metadata": {},
   "outputs": [
    {
     "name": "stdout",
     "output_type": "stream",
     "text": [
      "Solution:\n",
      "Objective value = 33.99999999999999\n",
      "x = 5.999999999999998\n",
      "y = 3.9999999999999996\n"
     ]
    }
   ],
   "source": [
    "# Step 7\n",
    "if status == pywraplp.Solver.OPTIMAL:\n",
    "    print('Solution:')\n",
    "    print('Objective value =', solver.Objective().Value()) # This gives the objective value at current solution\n",
    "    print('x =', x.solution_value()) #  Returns the value of the variable in the current solution.\n",
    "    print('y =', y.solution_value())\n",
    "else:\n",
    "    print('The problem does not have an optimal solution.')"
   ]
  },
  {
   "cell_type": "markdown",
   "id": "c3ee52a2-c59b-4b01-bf54-485737e4b13e",
   "metadata": {},
   "source": [
    "Here as you can see the solution. <br>\n",
    "<img src=\"images/lp_solution.png\" width =350>"
   ]
  },
  {
   "cell_type": "markdown",
   "id": "3fa79184-58e4-4618-b0ea-4fd411d0d60f",
   "metadata": {},
   "source": [
    "The status of a solver can be one of the following values:\n",
    "<table class=\"members property\">\n",
    "<tbody><tr>\n",
    "<th>Property</th><th>Description</th>\n",
    "</tr>\n",
    "<tr>\n",
    "<td><code translate=\"no\" dir=\"ltr\">OPTIMAL</code></td><td>Status when an optimal solution has been found.</td>\n",
    "</tr>\n",
    "<tr>\n",
    "<td><code translate=\"no\" dir=\"ltr\">FEASIBLE</code></td><td>Status when a feasible (not necessarily optimal) solution has been found.</td>\n",
    "</tr>\n",
    "<tr>\n",
    "<td><code translate=\"no\" dir=\"ltr\">INFEASIBLE</code></td><td>Status when the current model is unfeasible (has no solution).</td>\n",
    "</tr>\n",
    "<tr>\n",
    "<td><code translate=\"no\" dir=\"ltr\">UNBOUNDED</code></td><td>Status when the current model is unbound.</td>\n",
    "</tr>\n",
    "<tr>\n",
    "<td><code translate=\"no\" dir=\"ltr\">ABNORMAL</code></td><td>Status when it failed to find a solution for unexpected reasons.</td>\n",
    "</tr>\n",
    "<tr>\n",
    "<td><code translate=\"no\" dir=\"ltr\">MODEL_<wbr>INVALID</code></td><td>Status when the model is invalid.</td>\n",
    "</tr>\n",
    "<tr>\n",
    "<td><code translate=\"no\" dir=\"ltr\">NOT_<wbr>SOLVED</code></td><td>Status when <code translate=\"no\" dir=\"ltr\"><a href=\"/apps-script/reference/optimization/linear-optimization-engine#solve()\">LinearOptimizationEngine.<wbr>solve()</a></code> has not been called yet.</td>\n",
    "</tr>\n",
    "</tbody></table>"
   ]
  },
  {
   "cell_type": "markdown",
   "id": "4095971c-88f8-409a-9ec3-5c3d35014402",
   "metadata": {
    "tags": []
   },
   "source": [
    "<h1> Integer Programming</h1>\n",
    "Integer programming refers to an optimization problem when the input space is integer. Using when people talk integer programming they refer to ILP (integer linear programming) which a LP with integer variables. Also, we have mixed integer program which we have both continous and integer variables. Many problems in OR leads to integer programming, for example we can create 4.5 cars if we deciding how many cars should we make in a factory. Also, there are scenarios that integers represent decisions, so we want to optimize decisions. <br>\n",
    "ortools supports both integer and mixed programs. Let's check it with one example here:<br>\n",
    "Maximize x + 10y <br>\n",
    "subject to: <br>\n",
    "x + 7 y≤17.5 <br>\n",
    "x≤3.5 <br>\n",
    "x≥0 <br>\n",
    "y≥0 <br>\n",
    "x, y integers <br>\n",
    "You can see the space of feasible answer below:<br>\n",
    "<img src=\"images/mip_feasible.png\" width =400><br>\n",
    "We take the following steps to solve an integer problem:\n",
    "<ol>\n",
    "      <li>declare the MIP solver</li>\n",
    "      <li>define the variables</li>\n",
    "      <li>define the constraints</li>\n",
    "      <li>define the objective</li>\n",
    "      <li>call the MIP solver </li>\n",
    "      <li>display the solution</li>\n",
    "    </ol>"
   ]
  },
  {
   "cell_type": "code",
   "execution_count": null,
   "id": "0885d83c-7e4e-45f8-975a-4ea3149aadb4",
   "metadata": {},
   "outputs": [],
   "source": [
    "# Step 1\n",
    "# Create the mip solver with the SCIP backend. SCIP is an integer solver https://www.scipopt.org/\n",
    "solver = pywraplp.Solver.CreateSolver('SCIP')"
   ]
  },
  {
   "cell_type": "code",
   "execution_count": 11,
   "id": "a7f65605-dc66-4352-9f41-959b69b08997",
   "metadata": {},
   "outputs": [
    {
     "name": "stdout",
     "output_type": "stream",
     "text": [
      "Number of variables = 2\n",
      "Number of constraints = 2\n",
      "Solution:\n",
      "Objective value = 23.0\n",
      "x = 3.0\n",
      "y = 2.0\n",
      "\n",
      "Advanced usage:\n",
      "Problem solved in 3.000000 milliseconds\n",
      "Problem solved in 0 iterations\n",
      "Problem solved in 1 branch-and-bound nodes\n"
     ]
    }
   ],
   "source": [
    "infinity = solver.infinity()\n",
    "# x and y are integer non-negative variables.\n",
    "x = solver.IntVar(0.0, infinity, 'x')\n",
    "y = solver.IntVar(0.0, infinity, 'y')\n",
    "\n",
    "print('Number of variables =', solver.NumVariables())\n",
    "\n",
    "# x + 7 * y <= 17.5.\n",
    "solver.Add(x + 7 * y <= 17.5)\n",
    "\n",
    "# x <= 3.5.\n",
    "solver.Add(x <= 3.5)\n",
    "\n",
    "print('Number of constraints =', solver.NumConstraints())\n",
    "\n",
    "# Maximize x + 10 * y.\n",
    "solver.Maximize(x + 10 * y)\n",
    "\n",
    "status = solver.Solve()\n",
    "\n",
    "if status == pywraplp.Solver.OPTIMAL:\n",
    "    print('Solution:')\n",
    "    print('Objective value =', solver.Objective().Value()) \n",
    "    print('x =', x.solution_value()) # This gives\n",
    "    print('y =', y.solution_value())\n",
    "else:\n",
    "    print('The problem does not have an optimal solution.')\n",
    "\n",
    "print('\\nAdvanced usage:')\n",
    "print('Problem solved in %f milliseconds' % solver.wall_time())\n",
    "print('Problem solved in %d iterations' % solver.iterations())\n",
    "print('Problem solved in %d branch-and-bound nodes' % solver.nodes())"
   ]
  },
  {
   "cell_type": "markdown",
   "id": "c080486d-e1c5-4c46-8e26-50c7eedc0b0a",
   "metadata": {},
   "source": [
    "<img src= \"https://img.icons8.com/external-flaticons-flat-flat-icons/344/external-question-100-most-used-icons-flaticons-flat-flat-icons.png\" width=70> __Question__:<br> If we solve the above problem and use linear program instead of integer, do we get an answer close to integer program. Like is the solution to integer program is the closest point in the feasible region to the answer of linear program?\n",
    "<br>For answering this question, solve the above integer program as a linear program and coompare the results."
   ]
  },
  {
   "cell_type": "markdown",
   "id": "f6033c0d-8025-4097-a725-d61d2814a0a4",
   "metadata": {
    "tags": []
   },
   "source": [
    "<h3>Bin Packing Problem</h3>\n",
    "Bin Packing Problem is a model for many OR problems in idustry. Let's say we have a n items and each one has a different weight and we have bins with a fixed capacity. You can ask for as many as bin you wish, the questions is assigning items to bins which minimized number of bins. Let's make a concrete example here.\n",
    "Let's say our the weights of our items [48, 30, 19, 36, 36, 27, 42, 42, 36, 24, 30] pounds. and our bins have capacity for  100 pounds and solve the program with these parameters\n"
   ]
  },
  {
   "cell_type": "code",
   "execution_count": 33,
   "id": "5bf34f36-9b70-4bcd-9f4a-0c9884f387c1",
   "metadata": {},
   "outputs": [],
   "source": [
    "# problem data - def\n",
    "data = dict()\n",
    "data['weights'] = [48, 27, 30, 36, 36,  42, 42, 36, 24, 30, 19] # Weights \n",
    "data['items'] = list(range(len(weights))) # Items index\n",
    "data['bins'] = data['items'] # Keeps track of bins\n",
    "data['bin_capacity'] = 100 # bin capacity"
   ]
  },
  {
   "cell_type": "code",
   "execution_count": 34,
   "id": "99c3d4e8-d57c-40aa-85fb-2cbdaddf8f6f",
   "metadata": {},
   "outputs": [],
   "source": [
    "# init solver\n",
    "solver = pywraplp.Solver.CreateSolver('SCIP')"
   ]
  },
  {
   "cell_type": "code",
   "execution_count": 35,
   "id": "28147b8e-3c81-4fc7-bd26-483a50b48863",
   "metadata": {},
   "outputs": [],
   "source": [
    "# adding vars\n",
    "# Variables\n",
    "# x[i, j] = 1 if item i is packed in bin j.\n",
    "x = {}\n",
    "for i in data['items']:\n",
    "    for j in data['bins']:\n",
    "        x[(i, j)] = solver.IntVar(0, 1, f'x_{i}_{j}')\n",
    "\n",
    "# y[j] = 1 if bin j is used.\n",
    "y = {}\n",
    "for j in data['bins']:\n",
    "    y[j] = solver.IntVar(0, 1, f'y[{j}]')"
   ]
  },
  {
   "cell_type": "code",
   "execution_count": 36,
   "id": "74cf5952-c78f-4bd2-af34-7a1904b7f8ca",
   "metadata": {},
   "outputs": [],
   "source": [
    "# adding constraints\n",
    "# Each item must be in exactly one bin.\n",
    "for i in data['items']:\n",
    "    solver.Add(sum(x[i, j] for j in data['bins']) == 1)\n",
    "\n",
    "# The amount packed in each bin cannot exceed its capacity.\n",
    "for j in data['bins']:\n",
    "    solver.Add(\n",
    "        sum(x[(i, j)] * data['weights'][i] for i in data['items']) <= y[j] *\n",
    "        data['bin_capacity'])"
   ]
  },
  {
   "cell_type": "code",
   "execution_count": 37,
   "id": "40d0798e-5dc8-4141-9974-f2499520f6de",
   "metadata": {},
   "outputs": [],
   "source": [
    "# Add objective\n",
    "# Objective: minimize the number of bins used.\n",
    "solver.Minimize(solver.Sum([y[j] for j in data['bins']]))"
   ]
  },
  {
   "cell_type": "code",
   "execution_count": 38,
   "id": "d52aefc1-1f82-4d7b-8d76-76154c374644",
   "metadata": {},
   "outputs": [
    {
     "name": "stdout",
     "output_type": "stream",
     "text": [
      "Bin number 0\n",
      "  Items packed: [0, 1, 8]\n",
      "  Total weight: 99\n",
      "\n",
      "Bin number 1\n",
      "  Items packed: [2, 3, 9]\n",
      "  Total weight: 96\n",
      "\n",
      "Bin number 2\n",
      "  Items packed: [4, 5, 10]\n",
      "  Total weight: 97\n",
      "\n",
      "Bin number 3\n",
      "  Items packed: [6, 7]\n",
      "  Total weight: 78\n",
      "\n",
      "\n",
      "Number of bins used: 4.0\n",
      "Time =  1196  milliseconds\n"
     ]
    }
   ],
   "source": [
    "# Solve and check the results\n",
    "status = solver.Solve()\n",
    "if status == pywraplp.Solver.OPTIMAL:\n",
    "    num_bins = 0.\n",
    "    for j in data['bins']:\n",
    "        if y[j].solution_value() == 1:\n",
    "            bin_items = []\n",
    "            bin_weight = 0\n",
    "            for i in data['items']:\n",
    "                if x[i, j].solution_value() > 0:\n",
    "                    bin_items.append(i)\n",
    "                    bin_weight += data['weights'][i]\n",
    "            if bin_weight > 0:\n",
    "                num_bins += 1\n",
    "                print('Bin number', j)\n",
    "                print('  Items packed:', bin_items)\n",
    "                print('  Total weight:', bin_weight)\n",
    "                print()\n",
    "    print()\n",
    "    print('Number of bins used:', num_bins)\n",
    "    print('Time = ', solver.WallTime(), ' milliseconds')\n",
    "else:\n",
    "    print('The problem does not have an optimal solution.')"
   ]
  },
  {
   "cell_type": "markdown",
   "id": "48f17916-fb32-4d00-9817-0c47939908da",
   "metadata": {},
   "source": [
    "<img src=\"https://img.icons8.com/external-kosonicon-lineal-color-kosonicon/344/external-lab-tool-back-to-school-kosonicon-lineal-color-kosonicon.png\" alt=\"Lab\" width=80 > <font size=4>Lab (knapsack problem):</font><br>\n",
    "<a href=\"https://en.wikipedia.org/wiki/Knapsack_problem#:~:text=The%20knapsack%20problem%20is%20a,is%20as%20large%20as%20possible\"> Knapsak problem</a> is a problem model for some OR probelms in industry which can be converted to an integer programming. It is kinda similar to bin packing problem. We have a napsack with limited capacity and we have items with different weights. We want select items which can be fit in the knapsack and which maximize the total weight.<br>\n",
    "<img src=\"images/Knapsack.png\" width = 200><br>\n",
    "Solve the following knapsack problem:\n",
    "We have items with weight of [48, 27, 30, 36, 36,  42, 42, 36, 24, 30, 19] and we have a knapsack with capacity of 80 pounds. Find the best selection of items to maximize the weight you can carry."
   ]
  },
  {
   "cell_type": "markdown",
   "id": "438df774-bfc0-4f0c-851b-82ee1f759854",
   "metadata": {
    "tags": []
   },
   "source": [
    "<img src=\"https://img.icons8.com/external-flaticons-lineal-color-flat-icons/344/external-coffee-cup-bakery-flaticons-lineal-color-flat-icons.png\" alt=\"icon\" width=80> <font size=4> Takehome: Sudoku as Integer Program:</font><br>\n",
    "<a href=\"https://en.wikipedia.org/wiki/Sudoku\">Sudoku</a> is a puzzle game. You see an example of this game in the following image. One approach to solve the problem is back-tracking (this is based on human intuition). Another approach is considering it as integer (binary) programming<br>\n",
    "\n",
    "<b> HINT: Read the following </b>\n",
    "<h3> Binary Integer Programming Approach</h3>The key idea is to transform a puzzle from a square 9-by-9 grid to a cubic 9-by-9-by-9 array of binary values (0 or 1). Think of the cubic array as being 9 square grids stacked on top of each other, where each layer corresponds to an integer from 1 through 9. The top grid, a square layer of the array, has a 1 wherever the solution or clue has a 1. The second layer has a 1 wherever the solution or clue has a 2. The ninth layer has a 1 wherever the solution or clue has a 9.\n",
    "\n",
    "This formulation is precisely suited for binary integer programming.\n",
    "\n",
    "The objective function is not needed here, and might as well be a constant term 0. The problem is really just to find a feasible solution, meaning one that satisfies all the constraints. However, for tie breaking in the internals of the integer programming solver, giving increased solution speed, use a nonconstant objective function.\n",
    "<h4>Express the Rules for Sudoku as Constraints</h4>\n",
    "\n",
    "Suppose a solution x is represented in a 9-by-9-by-9 binary array. What properties does x have? First, each square in the 2-D grid (i,j) has exactly one value, so there is exactly one nonzero element among the 3-D array entries x(i,j,1),...,x(i,j,9).<br><img src=\"images/cond1.png\" width=100><br>\n",
    " Similarly, in each row i of the 2-D grid, there is exactly one value out of each of the digits from 1 to 9. In other words, for each i and k \n",
    "    <br><img src=\"images/cond2.png\" width=100><br>\n",
    "     And each column j in the 2-D grid has the same property: for each j and k <br><img src=\"images/cond3.png\" width=150><br>\n",
    "    The major 3-by-3 grids have a similar constraint. For the grid elements 1≤i≤3 and 1≤j≤3, and for each 1≤k≤9 <br><img src=\"images/cond4.png\" width=150><br>\n",
    "    To represent all nine major grids, just add 3 or 6 to each i and j index<br><img src=\"images/cond5.png\" width=350><br>\n",
    "<h4>Express Clues</h4>\n",
    "Each initial value (clue) can be expressed as a constraint. Suppose that the (i,j) clue is m for some 1≤m≤9. Then x(i,j,m)=1. The constraint  ensures that all other x(i,j,k)=0 for k≠m. <br> <img src=\"images/clue.png\" width=100>\n",
    "\n",
    "<h2>Question: </h2>\n",
    "solve the following sudoku using integer programming.\n",
    "\n",
    "<img src=\"images/SudokuExample.png\" width=400>"
   ]
  },
  {
   "cell_type": "markdown",
   "id": "865e5b44-2c84-45e4-8a4b-6fe063ee1f9c",
   "metadata": {
    "tags": []
   },
   "source": [
    "<h1>Constraint Programming </h1>\n",
    "Constraint optimization, or constraint programming (CP), is the name given to identifying feasible solutions out of a very large set of candidates, where the problem can be modeled in terms of arbitrary constraints. CP is based on feasibility (finding a feasible solution) rather than optimization (finding an optimal solution) and focuses on the constraints and variables rather than the objective function. In fact, a CP problem may not even have an objective function — the goal may simply be to narrow down a vary large set of possible solutions to a more manageable subset by adding constraints to the problem.<br>\n",
    "\n",
    "\n",
    "If condition of CP are all linear, you can solve CP as a linear program with some arbitrary fixed objective value. ORTools provide CP Solvers. Let's make an example and solve it using both LP and CP solvers.\n"
   ]
  },
  {
   "cell_type": "markdown",
   "id": "ea89f034-d6c2-4b94-8953-43a3b0fd6b12",
   "metadata": {
    "tags": []
   },
   "source": [
    "<h3> Assignment Problem</h3>\n",
    "<a href=\"https://en.wikipedia.org/wiki/Assignment_problem\"> Assignment problem </a> is a problem model for many real life problems. It has many application in computer science too.\n",
    "<br>Problem statement: We have multiple workers and multiple tasks. The cost of assigning each task to each worker is different. The problem is to assign each worker to at most one task, with no two workers performing the same task, while minimizing the total cost. Let's make a concrete example here. <br>\n",
    "<table> <thead> <tr> <th>Worker</th> <th>Task 0</th> <th>Task 1</th> <th>Task 2</th> <th>Task 3</th> </tr> </thead> <tbody> <tr class=\"alt\"> <td><b>0</b></td> <td>90</td> <td>80</td> <td>75</td> <td>70</td> </tr> <tr class=\"\"> <td><b>1</b></td> <td>35</td> <td>85</td> <td>55</td> <td>65</td> </tr> <tr class=\"alt\"> <td><b>2</b></td> <td>125</td> <td>95</td> <td>90</td> <td>95</td> </tr> <tr class=\"\"> <td><b>3</b></td> <td>45</td> <td>110</td> <td>95</td> <td>115</td> </tr> <tr class=\"alt\"> <td><b>4</b></td> <td>50</td> <td>100</td> <td>90</td> <td>100</td> </tr> </tbody> </table>\n",
    "In this example we have one more worker than tasks. So, one of them will not be assigned.\n",
    "\n",
    "<h5>Solving it using MIP:</h5>"
   ]
  },
  {
   "cell_type": "code",
   "execution_count": 54,
   "id": "5715e6cc-0a80-4c78-8ad7-104dfafded6b",
   "metadata": {},
   "outputs": [
    {
     "name": "stdout",
     "output_type": "stream",
     "text": [
      "Total cost = 265.0\n",
      "\n",
      "Worker 0 assigned to task 3. Cost: 70\n",
      "Worker 1 assigned to task 2. Cost: 55\n",
      "Worker 2 assigned to task 1. Cost: 95\n",
      "Worker 3 assigned to task 0. Cost: 45\n"
     ]
    }
   ],
   "source": [
    "costs = [\n",
    "    [90, 80, 75, 70],\n",
    "    [35, 85, 55, 65],\n",
    "    [125, 95, 90, 95],\n",
    "    [45, 110, 95, 115],\n",
    "    [50, 100, 90, 100],\n",
    "]\n",
    "num_workers = len(costs)\n",
    "num_tasks = len(costs[0])\n",
    "\n",
    "# init solver\n",
    "solver = pywraplp.Solver.CreateSolver('SCIP')\n",
    "\n",
    "# Variables\n",
    "x = {}\n",
    "for i in range(num_workers):\n",
    "    for j in range(num_tasks):\n",
    "        x[i, j] = solver.IntVar(0, 1, '')\n",
    "        \n",
    "# Constraints\n",
    "# Each worker is assigned to at most 1 task.\n",
    "for i in range(num_workers):\n",
    "    solver.Add(solver.Sum([x[i, j] for j in range(num_tasks)]) <= 1)\n",
    "\n",
    "# Each task is assigned to exactly one worker.\n",
    "for j in range(num_tasks):\n",
    "    solver.Add(solver.Sum([x[i, j] for i in range(num_workers)]) == 1)\n",
    "\n",
    "#Define Objective\n",
    "objective_terms = []\n",
    "for i in range(num_workers):\n",
    "    for j in range(num_tasks):\n",
    "        objective_terms.append(costs[i][j] * x[i, j])\n",
    "\n",
    "# Solve the problem\n",
    "solver.Minimize(solver.Sum(objective_terms))\n",
    "status = solver.Solve()\n",
    "\n",
    "# Print the soultion\n",
    "if status == pywraplp.Solver.OPTIMAL or status == pywraplp.Solver.FEASIBLE:\n",
    "    print(f'Total cost = {solver.Objective().Value()}\\n')\n",
    "    for i in range(num_workers):\n",
    "        for j in range(num_tasks):\n",
    "            # Test if x[i,j] is 1 (with tolerance for floating point arithmetic).\n",
    "            if x[i, j].solution_value() > 0.5:\n",
    "                print(f'Worker {i} assigned to task {j}.' +\n",
    "                      f' Cost: {costs[i][j]}')\n",
    "else:\n",
    "    print('No solution found.')\n"
   ]
  },
  {
   "cell_type": "markdown",
   "id": "6bf06679-3a93-4a89-9a8b-19939ab9b289",
   "metadata": {},
   "source": [
    "<h5> Solving it using CP SAT </h5>\n",
    "CP-SAT solver is constraint programming solver that uses SAT (satisfiability) methods. It is part of ortools and developed by google. Let's see it in action. Check <a href=\"https://google.github.io/or-tools/python/ortools/sat/python/cp_model.html\">here for documents of CP SAT</a>."
   ]
  },
  {
   "cell_type": "code",
   "execution_count": 55,
   "id": "81e9836f-26b5-4321-8341-10bfeb9822a3",
   "metadata": {},
   "outputs": [],
   "source": [
    "from ortools.sat.python import cp_model\n",
    "model = cp_model.CpModel() # Here is different than LP, here we define a model"
   ]
  },
  {
   "cell_type": "code",
   "execution_count": 56,
   "id": "d96f827c-ce6a-4005-b953-7cd5230a1eac",
   "metadata": {},
   "outputs": [],
   "source": [
    "x = []\n",
    "for i in range(num_workers):\n",
    "    t = []\n",
    "    for j in range(num_tasks):\n",
    "        t.append(model.NewBoolVar(f'x[{i},{j}]')) # Pay attention this line it is different from LP (Variable typs start with New and end with Var\n",
    "    x.append(t)"
   ]
  },
  {
   "cell_type": "code",
   "execution_count": 57,
   "id": "4b48a6b6-b8c1-4f1d-a807-e6cdfb8ad1b3",
   "metadata": {},
   "outputs": [],
   "source": [
    "# Each worker is assigned to at most one task.\n",
    "for i in range(num_workers):\n",
    "    model.AddAtMostOne(x[i][j] for j in range(num_tasks)) # Hint: AtMostOne(literals): Sum(literals) <= 1\n",
    "\n",
    "# Each task is assigned to exactly one worker.\n",
    "for j in range(num_tasks):\n",
    "    model.AddExactlyOne(x[i][j] for i in range(num_workers)) # Hint: ExactlyOne(literals): Sum(literals) == 1."
   ]
  },
  {
   "cell_type": "code",
   "execution_count": 58,
   "id": "ab666c98-6690-494c-bd5b-f7dcec5e48d7",
   "metadata": {},
   "outputs": [],
   "source": [
    "objective_terms = []\n",
    "for i in range(num_workers):\n",
    "    for j in range(num_tasks):\n",
    "        objective_terms.append(costs[i][j] * x[i][j])\n",
    "model.Minimize(sum(objective_terms))"
   ]
  },
  {
   "cell_type": "code",
   "execution_count": 59,
   "id": "33be1782-a57c-4d95-9ddb-318a3c3dd03e",
   "metadata": {},
   "outputs": [],
   "source": [
    "solver = cp_model.CpSolver() # Solver is init here, after building the model.\n",
    "status = solver.Solve(model) "
   ]
  },
  {
   "cell_type": "code",
   "execution_count": 60,
   "id": "fd013a75-1c8d-4f17-bdb9-90d92087b373",
   "metadata": {},
   "outputs": [
    {
     "name": "stdout",
     "output_type": "stream",
     "text": [
      "Total cost = 265.0\n",
      "\n",
      "Worker 0 assigned to task 3 Cost = 70\n",
      "Worker 1 assigned to task 2 Cost = 55\n",
      "Worker 2 assigned to task 1 Cost = 95\n",
      "Worker 3 assigned to task 0 Cost = 45\n"
     ]
    }
   ],
   "source": [
    "if status == cp_model.OPTIMAL or status == cp_model.FEASIBLE:\n",
    "    print(f'Total cost = {solver.ObjectiveValue()}')\n",
    "    print()\n",
    "    for i in range(num_workers):\n",
    "        for j in range(num_tasks):\n",
    "            if solver.BooleanValue(x[i][j]):\n",
    "                print(\n",
    "                    f'Worker {i} assigned to task {j} Cost = {costs[i][j]}')\n",
    "else:\n",
    "    print('No solution found.')"
   ]
  },
  {
   "cell_type": "markdown",
   "id": "7b6cbdf7-40ba-4428-9752-19088f5e2a16",
   "metadata": {},
   "source": [
    "<h4>N-Queen Problem</h4>\n",
    " <a href=\"https://en.wikipedia.org/wiki/Eight_queens_puzzle\"> N-Queen problem</a> is a puzzle and classical computer science problem for teaching dynamic programming and back tracking concepts. Here we use CP Solver to systematically checking all assignment of variables for doing a exaustive search.  <br>\n",
    " The N-Queen problem statement: <em>How can N queens be placed on an NxN chessboard so that no two of them attack each other?</em>\n",
    " The following figure shows the answer for a 4x4 board.\n",
    " <img src=\"images/sol_4x4_b.png\">\n",
    " \n",
    " CP Solver runs an exaustive search, by adding a queen at the time until it places all queens. Here, there are thing we can do to improve the performance by avoiding checking impossible scenarios. Here we need two concepts:<br>\n",
    "<ul>\n",
    "      <li><i>Propagation</i> —  Each time the solver assigns a value to a variable, the\n",
    "        constraints add restrictions on the possible values of the unassigned variables. These\n",
    "        restrictions <i>propagate</i> to future variable assignments.\n",
    "      </li>\n",
    "      <li><i>Backtracking</i> occurs when either the solver can't assign a value to the next\n",
    "        variable,\n",
    "        due to the constraints, or it finds a solution. In either case, the solver\n",
    "        backtracks to a previous stage and changes the value of the variable at that stage to\n",
    "        a value that hasn't already been tried. </li>\n",
    "    </ul>\n",
    "     <table><tr><td><img src=\"images/nqueen_propagate.png\"> </td><td><img src=\"images/nqueen_propagate2.png\"></td><td><img src=\"images/nqueen_backtrack.png\"></td><td><img src=\"images/nqueen_step.png\"></td><td> .....</td><td><img src=\"images/nqueen_propagate3.png\"></td></tr></table>"
   ]
  },
  {
   "cell_type": "code",
   "execution_count": 64,
   "id": "77ab5edd-4887-4828-b462-65f03742aadc",
   "metadata": {},
   "outputs": [
    {
     "name": "stdout",
     "output_type": "stream",
     "text": [
      "Solution 0, time = 0.002168 s\n",
      "_ _ Q _ _ \n",
      "Q _ _ _ _ \n",
      "_ _ _ Q _ \n",
      "_ Q _ _ _ \n",
      "_ _ _ _ Q \n",
      "\n",
      "Solution 1, time = 0.003063 s\n",
      "_ _ _ Q _ \n",
      "Q _ _ _ _ \n",
      "_ _ Q _ _ \n",
      "_ _ _ _ Q \n",
      "_ Q _ _ _ \n",
      "\n",
      "Solution 2, time = 0.003841 s\n",
      "_ Q _ _ _ \n",
      "_ _ _ Q _ \n",
      "Q _ _ _ _ \n",
      "_ _ Q _ _ \n",
      "_ _ _ _ Q \n",
      "\n",
      "Solution 3, time = 0.004466 s\n",
      "_ Q _ _ _ \n",
      "_ _ _ _ Q \n",
      "_ _ Q _ _ \n",
      "Q _ _ _ _ \n",
      "_ _ _ Q _ \n",
      "\n",
      "Solution 4, time = 0.005210 s\n",
      "_ _ Q _ _ \n",
      "_ _ _ _ Q \n",
      "_ Q _ _ _ \n",
      "_ _ _ Q _ \n",
      "Q _ _ _ _ \n",
      "\n",
      "Solution 5, time = 0.005720 s\n",
      "Q _ _ _ _ \n",
      "_ _ _ Q _ \n",
      "_ Q _ _ _ \n",
      "_ _ _ _ Q \n",
      "_ _ Q _ _ \n",
      "\n",
      "Solution 6, time = 0.006370 s\n",
      "Q _ _ _ _ \n",
      "_ _ Q _ _ \n",
      "_ _ _ _ Q \n",
      "_ Q _ _ _ \n",
      "_ _ _ Q _ \n",
      "\n",
      "Solution 7, time = 0.006940 s\n",
      "_ _ _ _ Q \n",
      "_ _ Q _ _ \n",
      "Q _ _ _ _ \n",
      "_ _ _ Q _ \n",
      "_ Q _ _ _ \n",
      "\n",
      "Solution 8, time = 0.007660 s\n",
      "_ _ _ _ Q \n",
      "_ Q _ _ _ \n",
      "_ _ _ Q _ \n",
      "Q _ _ _ _ \n",
      "_ _ Q _ _ \n",
      "\n",
      "Solution 9, time = 0.008673 s\n",
      "_ _ _ Q _ \n",
      "_ Q _ _ _ \n",
      "_ _ _ _ Q \n",
      "_ _ Q _ _ \n",
      "Q _ _ _ _ \n",
      "\n",
      "\n",
      "Statistics\n",
      "  conflicts      : 2\n",
      "  branches       : 92\n",
      "  wall time      : 0.009461 s\n",
      "  solutions found: 10\n"
     ]
    }
   ],
   "source": [
    "\"\"\"OR-Tools solution to the N-queens problem.\"\"\"\n",
    "import sys\n",
    "import time\n",
    "from ortools.sat.python import cp_model\n",
    "\n",
    "\n",
    "class NQueenSolutionPrinter(cp_model.CpSolverSolutionCallback):\n",
    "    \"\"\"Print intermediate solutions.\"\"\"\n",
    "\n",
    "    def __init__(self, queens):\n",
    "        cp_model.CpSolverSolutionCallback.__init__(self)\n",
    "        self.__queens = queens\n",
    "        self.__solution_count = 0\n",
    "        self.__start_time = time.time()\n",
    "\n",
    "    def solution_count(self):\n",
    "        return self.__solution_count\n",
    "\n",
    "    def on_solution_callback(self):\n",
    "        current_time = time.time()\n",
    "        print('Solution %i, time = %f s' %\n",
    "              (self.__solution_count, current_time - self.__start_time))\n",
    "        self.__solution_count += 1\n",
    "\n",
    "        all_queens = range(len(self.__queens))\n",
    "        for i in all_queens:\n",
    "            for j in all_queens:\n",
    "                if self.Value(self.__queens[j]) == i:\n",
    "                    # There is a queen in column j, row i.\n",
    "                    print('Q', end=' ')\n",
    "                else:\n",
    "                    print('_', end=' ')\n",
    "            print()\n",
    "        print()\n",
    "\n",
    "\n",
    "\n",
    "def n_queen_answer(board_size):\n",
    "    # Creates the solver.\n",
    "    model = cp_model.CpModel()\n",
    "\n",
    "    # Creates the variables.\n",
    "    # The array index is the column, and the value is the row.\n",
    "    queens = [model.NewIntVar(0, board_size - 1, f'x{i}') for i in range(board_size)]\n",
    "\n",
    "    # Creates the constraints.\n",
    "    # All rows must be different.\n",
    "    model.AddAllDifferent(queens)\n",
    "\n",
    "    # All columns must be different because the indices of queens are all\n",
    "    # different.\n",
    "\n",
    "    # No two queens can be on the same diagonal.\n",
    "    model.AddAllDifferent(queens[i] + i for i in range(board_size))\n",
    "    model.AddAllDifferent(queens[i] - i for i in range(board_size))\n",
    "\n",
    "    # Solve the model.\n",
    "    solver = cp_model.CpSolver()\n",
    "    solution_printer = NQueenSolutionPrinter(queens)\n",
    "    solver.parameters.enumerate_all_solutions = True\n",
    "    solver.Solve(model, solution_printer)\n",
    "\n",
    "    # Statistics.\n",
    "    print('\\nStatistics')\n",
    "    print(f'  conflicts      : {solver.NumConflicts()}')\n",
    "    print(f'  branches       : {solver.NumBranches()}')\n",
    "    print(f'  wall time      : {solver.WallTime()} s')\n",
    "    print(f'  solutions found: {solution_printer.solution_count()}')\n",
    "\n",
    "\n",
    "\n",
    "size = 5\n",
    "n_queen_answer(size)"
   ]
  },
  {
   "cell_type": "markdown",
   "id": "50320aa1-6fb7-484f-a516-2a31649f2e5b",
   "metadata": {},
   "source": [
    "%%html\n",
    "<h1>Traveling Salesperson Problem</h1>\n",
    "<a href=\"https://en.wikipedia.org/wiki/Travelling_salesman_problem\">Traveling Salesperson Problem(TSP)</a> is classical optimizaiton problem which models many real world problem. <br>\n",
    "TSP statement: find the shortest route for a salesperson who needs to visit customers at different locations and return to the starting point.<br>\n",
    "<img src=\"images/tsp.svg\"><br>\n",
    "In the above example we have 4 locations and 6 routs. By calculating the distances of all possible routes, you can see that the shortest route is ACDBA, for which the total distance is 35 + 30 + 15 + 10 = 90.  But if there are ten locations (not counting the starting point), the number of routes is 362880. For 20 locations, the number jumps to 2432902008176640000. An exhaustive search of all possible routes would be guaranteed to find the shortest, but this is computationally intractable for all but small sets of locations. "
   ]
  },
  {
   "cell_type": "code",
   "execution_count": 66,
   "id": "35516e15-c2b6-491a-9652-8dd1adb69a6b",
   "metadata": {
    "tags": []
   },
   "outputs": [],
   "source": [
    "# Let's define some functions for the problem\n",
    "\n",
    "def create_data_model():\n",
    "    \"\"\"Stores the data for the problem.\"\"\"\n",
    "    data = {}\n",
    "    # Locations in block units\n",
    "    locations = [(4, 4),  # depot\n",
    "             (2, 0), (8, 0),  # locations to visit\n",
    "             (0, 1), (1, 1),\n",
    "             (5, 2), (7, 2),\n",
    "             (3, 3), (6, 3),\n",
    "             (5, 5), (8, 5),\n",
    "             (1, 6), (2, 6),\n",
    "             (3, 7), (6, 7),\n",
    "             (0, 8), (7, 8),]\n",
    "    # Convert locations in meters using a city block dimension of 114m x 80m.\n",
    "    data['locations'] = [(l[0] * 114, l[1] * 80) for l in locations]\n",
    "    data['num_vehicles'] = 1\n",
    "    data['depot'] = 0\n",
    "    return data\n",
    "\n",
    "\n",
    "\n",
    "# [START distance_callback]\n",
    "def create_distance_callback(data, manager):\n",
    "    \"\"\"Creates callback to return distance between points.\"\"\"\n",
    "    distances_ = {}\n",
    "    index_manager_ = manager\n",
    "    # precompute distance between location to have distance callback in O(1)\n",
    "    for from_counter, from_node in enumerate(data['locations']):\n",
    "        distances_[from_counter] = {}\n",
    "        for to_counter, to_node in enumerate(data['locations']):\n",
    "            if from_counter == to_counter:\n",
    "                distances_[from_counter][to_counter] = 0\n",
    "            else:\n",
    "                distances_[from_counter][to_counter] = (\n",
    "                    abs(from_node[0] - to_node[0]) +\n",
    "                    abs(from_node[1] - to_node[1]))\n",
    "\n",
    "    def distance_callback(from_index, to_index):\n",
    "        \"\"\"Returns the manhattan distance between the two nodes.\"\"\"\n",
    "        # Convert from routing variable Index to distance matrix NodeIndex.\n",
    "        from_node = index_manager_.IndexToNode(from_index)\n",
    "        to_node = index_manager_.IndexToNode(to_index)\n",
    "        return distances_[from_node][to_node]\n",
    "\n",
    "    return distance_callback\n",
    "\n",
    "def print_solution(manager, routing, assignment):\n",
    "    \"\"\"Prints assignment on console.\"\"\"\n",
    "    print('Objective: {}'.format(assignment.ObjectiveValue()))\n",
    "    index = routing.Start(0)\n",
    "    plan_output = 'Route for vehicle 0:\\n'\n",
    "    route_distance = 0\n",
    "    while not routing.IsEnd(index):\n",
    "        plan_output += ' {} ->'.format(manager.IndexToNode(index))\n",
    "        previous_index = index\n",
    "        index = assignment.Value(routing.NextVar(index))\n",
    "        route_distance += routing.GetArcCostForVehicle(previous_index, index, 0)\n",
    "    plan_output += ' {}\\n'.format(manager.IndexToNode(index))\n",
    "    plan_output += 'Distance of the route: {}m\\n'.format(route_distance)\n",
    "    print(plan_output)"
   ]
  },
  {
   "cell_type": "code",
   "execution_count": 67,
   "id": "fc473ba5-f279-48b3-aae6-3e8b4d71082d",
   "metadata": {},
   "outputs": [
    {
     "name": "stdout",
     "output_type": "stream",
     "text": [
      "Objective: 4384\n",
      "Route for vehicle 0:\n",
      " 0 -> 9 -> 5 -> 8 -> 6 -> 2 -> 10 -> 16 -> 14 -> 13 -> 12 -> 11 -> 15 -> 3 -> 4 -> 1 -> 7 -> 0\n",
      "Distance of the route: 4384m\n",
      "\n"
     ]
    }
   ],
   "source": [
    "from ortools.constraint_solver import routing_enums_pb2\n",
    "from ortools.constraint_solver import pywrapcp\n",
    "# Creating data\n",
    "data = create_data_model()\n",
    "\n",
    "# Create the routing index manager.\n",
    "manager = pywrapcp.RoutingIndexManager(len(data['locations']), data['num_vehicles'], data['depot'])\n",
    "\n",
    "# Create Routing Model.\n",
    "routing = pywrapcp.RoutingModel(manager)\n",
    "\n",
    "# Create and register a transit callback.\n",
    "\n",
    "distance_callback = create_distance_callback(data, manager)\n",
    "transit_callback_index = routing.RegisterTransitCallback(distance_callback)\n",
    "\n",
    "# Define cost of each arc.\n",
    "routing.SetArcCostEvaluatorOfAllVehicles(transit_callback_index)\n",
    "\n",
    "# Setting first solution heuristic.\n",
    "search_parameters = pywrapcp.DefaultRoutingSearchParameters()\n",
    "search_parameters.first_solution_strategy = (\n",
    "    routing_enums_pb2.FirstSolutionStrategy.PATH_CHEAPEST_ARC)\n",
    "\n",
    "# Solve the problem.\n",
    "assignment = routing.SolveWithParameters(search_parameters)\n",
    "\n",
    "# Print solution on console.\n",
    "if assignment:\n",
    "    print_solution(manager, routing, assignment)\n"
   ]
  },
  {
   "cell_type": "code",
   "execution_count": null,
   "id": "ea1a54e4-dfc9-4d6d-aac3-dd423b2251ec",
   "metadata": {},
   "outputs": [],
   "source": []
  }
 ],
 "metadata": {
  "kernelspec": {
   "display_name": "Python 3 (ipykernel)",
   "language": "python",
   "name": "python3"
  },
  "language_info": {
   "codemirror_mode": {
    "name": "ipython",
    "version": 3
   },
   "file_extension": ".py",
   "mimetype": "text/x-python",
   "name": "python",
   "nbconvert_exporter": "python",
   "pygments_lexer": "ipython3",
   "version": "3.9.12"
  }
 },
 "nbformat": 4,
 "nbformat_minor": 5
}
